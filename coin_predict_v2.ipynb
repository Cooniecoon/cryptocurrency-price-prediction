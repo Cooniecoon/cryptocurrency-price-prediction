{
  "nbformat": 4,
  "nbformat_minor": 0,
  "metadata": {
    "colab": {
      "name": "coin_predict_v2.ipynb",
      "provenance": [],
      "collapsed_sections": []
    },
    "kernelspec": {
      "name": "python3",
      "display_name": "Python 3"
    },
    "accelerator": "GPU"
  },
  "cells": [
    {
      "cell_type": "code",
      "metadata": {
        "colab": {
          "base_uri": "https://localhost:8080/"
        },
        "id": "K56BIToRM7Il",
        "outputId": "e59ffdf7-10f9-415a-c5ac-11532137ce7d"
      },
      "source": [
        "!pip install pyupbit\n",
        "import pandas as pd\n",
        "import numpy as np\n",
        "import datetime\n",
        "import pyupbit\n",
        "from keras.models import Sequential\n",
        "from keras.layers import LSTM, Dropout, Dense, Activation, Conv1D\n",
        "from keras.callbacks import EarlyStopping, ModelCheckpoint, ReduceLROnPlateau\n",
        "from keras.losses import Huber\n",
        "from keras.optimizers import Adam\n",
        "import datetime\n",
        "import requests\n",
        "from bs4 import BeautifulSoup"
      ],
      "execution_count": null,
      "outputs": [
        {
          "output_type": "stream",
          "text": [
            "Requirement already satisfied: pyupbit in /usr/local/lib/python3.7/dist-packages (0.2.8)\n",
            "Requirement already satisfied: requests in /usr/local/lib/python3.7/dist-packages (from pyupbit) (2.23.0)\n",
            "Requirement already satisfied: pyjwt>=2.0.0 in /usr/local/lib/python3.7/dist-packages (from pyupbit) (2.0.1)\n",
            "Requirement already satisfied: pandas in /usr/local/lib/python3.7/dist-packages (from pyupbit) (1.1.5)\n",
            "Requirement already satisfied: certifi>=2017.4.17 in /usr/local/lib/python3.7/dist-packages (from requests->pyupbit) (2020.12.5)\n",
            "Requirement already satisfied: idna<3,>=2.5 in /usr/local/lib/python3.7/dist-packages (from requests->pyupbit) (2.10)\n",
            "Requirement already satisfied: urllib3!=1.25.0,!=1.25.1,<1.26,>=1.21.1 in /usr/local/lib/python3.7/dist-packages (from requests->pyupbit) (1.24.3)\n",
            "Requirement already satisfied: chardet<4,>=3.0.2 in /usr/local/lib/python3.7/dist-packages (from requests->pyupbit) (3.0.4)\n",
            "Requirement already satisfied: numpy>=1.15.4 in /usr/local/lib/python3.7/dist-packages (from pandas->pyupbit) (1.19.5)\n",
            "Requirement already satisfied: python-dateutil>=2.7.3 in /usr/local/lib/python3.7/dist-packages (from pandas->pyupbit) (2.8.1)\n",
            "Requirement already satisfied: pytz>=2017.2 in /usr/local/lib/python3.7/dist-packages (from pandas->pyupbit) (2018.9)\n",
            "Requirement already satisfied: six>=1.5 in /usr/local/lib/python3.7/dist-packages (from python-dateutil>=2.7.3->pandas->pyupbit) (1.15.0)\n"
          ],
          "name": "stdout"
        }
      ]
    },
    {
      "cell_type": "code",
      "metadata": {
        "id": "MR1TBjLpbcBU"
      },
      "source": [
        "def crawller(code, time):\n",
        "    req = requests.get(\n",
        "        f\"https://crix-api-endpoint.upbit.com/v1/crix/candles/minutes/{time}?code=CRIX.UPBIT.KRW-{code}&count=400\"\n",
        "    )\n",
        "    data = req.json()\n",
        "    result = []\n",
        "\n",
        "    for i, candle in enumerate(data):\n",
        "        result.append(\n",
        "            {\n",
        "                \"Time\": data[i][\"candleDateTimeKst\"],\n",
        "                \"OpeningPrice\": data[i][\"openingPrice\"],\n",
        "                \"HighPrice\": data[i][\"highPrice\"],\n",
        "                \"LowPrice\": data[i][\"lowPrice\"],\n",
        "                \"TradePrice\": data[i][\"tradePrice\"],\n",
        "                \"CandleAccTradeVolume\": data[i][\"candleAccTradeVolume\"],\n",
        "                \"candleAccTradePrice\": data[i][\"candleAccTradePrice\"],\n",
        "            }\n",
        "        )\n",
        "\n",
        "    coin_data = pd.DataFrame(result)\n",
        "    return coin_data\n",
        "\n",
        "def normalize_windows(data):\n",
        "    normalized_data = []\n",
        "\n",
        "    for window in data: #3\n",
        "        normalized_windows=[]\n",
        "\n",
        "        for jdx in range(data.shape[-1]): #5\n",
        "            normalized_window=[]\n",
        "\n",
        "            for idx in range(data.shape[1]): #11\n",
        "                # print(window[:,idx][jdx],window[0,idx])\n",
        "\n",
        "                normalized_window.append((float(window[:,jdx][idx]) / (float(window[0,jdx])+0.000001)) - 1)\n",
        "\n",
        "            normalized_windows.append(normalized_window)\n",
        "\n",
        "        normalized_data.append(np.array(normalized_windows).T)\n",
        "\n",
        "    return np.array(normalized_data)"
      ],
      "execution_count": null,
      "outputs": []
    },
    {
      "cell_type": "markdown",
      "metadata": {
        "id": "_9yTypVFdOT4"
      },
      "source": [
        "# Load Data"
      ]
    },
    {
      "cell_type": "code",
      "metadata": {
        "colab": {
          "base_uri": "https://localhost:8080/",
          "height": 204
        },
        "id": "mS7OpESycG4v",
        "outputId": "c4ca3229-954c-4d3d-8eac-bebf79aeb3df"
      },
      "source": [
        "code = \"KRW-BTC\"\n",
        "\n",
        "data_path = \"/content/Bitcoin - 비트코인 과거 데이터 - Investing.com (1).csv\"\n",
        "# data_path = '/content/Ethereum - 이더리움 과거 데이터 - Investing.com (1).csv'\n",
        "# data_path = '/content/Polkadot 과거 데이터 - Investing.com.csv'\n",
        "\n",
        "data = pd.read_csv(data_path)\n",
        "\n",
        "data.head()"
      ],
      "execution_count": null,
      "outputs": [
        {
          "output_type": "execute_result",
          "data": {
            "text/html": [
              "<div>\n",
              "<style scoped>\n",
              "    .dataframe tbody tr th:only-of-type {\n",
              "        vertical-align: middle;\n",
              "    }\n",
              "\n",
              "    .dataframe tbody tr th {\n",
              "        vertical-align: top;\n",
              "    }\n",
              "\n",
              "    .dataframe thead th {\n",
              "        text-align: right;\n",
              "    }\n",
              "</style>\n",
              "<table border=\"1\" class=\"dataframe\">\n",
              "  <thead>\n",
              "    <tr style=\"text-align: right;\">\n",
              "      <th></th>\n",
              "      <th>날짜</th>\n",
              "      <th>종가</th>\n",
              "      <th>오픈</th>\n",
              "      <th>고가</th>\n",
              "      <th>저가</th>\n",
              "      <th>거래량</th>\n",
              "      <th>변동 %</th>\n",
              "    </tr>\n",
              "  </thead>\n",
              "  <tbody>\n",
              "    <tr>\n",
              "      <th>0</th>\n",
              "      <td>2021년 02월 26일</td>\n",
              "      <td>47,736.1</td>\n",
              "      <td>46,928.5</td>\n",
              "      <td>48,413.9</td>\n",
              "      <td>44,248.2</td>\n",
              "      <td>195.93K</td>\n",
              "      <td>1.72%</td>\n",
              "    </tr>\n",
              "    <tr>\n",
              "      <th>1</th>\n",
              "      <td>2021년 02월 25일</td>\n",
              "      <td>46,928.5</td>\n",
              "      <td>49,695.9</td>\n",
              "      <td>52,013.8</td>\n",
              "      <td>46,773.7</td>\n",
              "      <td>83.22K</td>\n",
              "      <td>-5.57%</td>\n",
              "    </tr>\n",
              "    <tr>\n",
              "      <th>2</th>\n",
              "      <td>2021년 02월 24일</td>\n",
              "      <td>49,697.5</td>\n",
              "      <td>48,911.1</td>\n",
              "      <td>51,311.8</td>\n",
              "      <td>47,031.7</td>\n",
              "      <td>153.75K</td>\n",
              "      <td>1.61%</td>\n",
              "    </tr>\n",
              "    <tr>\n",
              "      <th>3</th>\n",
              "      <td>2021년 02월 23일</td>\n",
              "      <td>48,911.2</td>\n",
              "      <td>54,114.1</td>\n",
              "      <td>54,115.0</td>\n",
              "      <td>45,093.8</td>\n",
              "      <td>315.07K</td>\n",
              "      <td>-9.61%</td>\n",
              "    </tr>\n",
              "    <tr>\n",
              "      <th>4</th>\n",
              "      <td>2021년 02월 22일</td>\n",
              "      <td>54,111.8</td>\n",
              "      <td>57,437.6</td>\n",
              "      <td>57,480.8</td>\n",
              "      <td>48,353.8</td>\n",
              "      <td>244.95K</td>\n",
              "      <td>-5.78%</td>\n",
              "    </tr>\n",
              "  </tbody>\n",
              "</table>\n",
              "</div>"
            ],
            "text/plain": [
              "              날짜        종가        오픈        고가        저가      거래량    변동 %\n",
              "0  2021년 02월 26일  47,736.1  46,928.5  48,413.9  44,248.2  195.93K   1.72%\n",
              "1  2021년 02월 25일  46,928.5  49,695.9  52,013.8  46,773.7   83.22K  -5.57%\n",
              "2  2021년 02월 24일  49,697.5  48,911.1  51,311.8  47,031.7  153.75K   1.61%\n",
              "3  2021년 02월 23일  48,911.2  54,114.1  54,115.0  45,093.8  315.07K  -9.61%\n",
              "4  2021년 02월 22일  54,111.8  57,437.6  57,480.8  48,353.8  244.95K  -5.78%"
            ]
          },
          "metadata": {
            "tags": []
          },
          "execution_count": 670
        }
      ]
    },
    {
      "cell_type": "markdown",
      "metadata": {
        "id": "g7sux-I2dT_N"
      },
      "source": [
        "# Data Preprocessing"
      ]
    },
    {
      "cell_type": "code",
      "metadata": {
        "colab": {
          "base_uri": "https://localhost:8080/",
          "height": 204
        },
        "id": "MvSRSQQhc40P",
        "outputId": "0352fc37-750c-46c4-bfc6-f24c151745bb"
      },
      "source": [
        "data['변동 %'] = data['변동 %'].str.replace('%', '')\n",
        "\n",
        "for i in data.columns:\n",
        "    data[i]=data[i].str.replace(',' , '')\n",
        "\n",
        "idx_null = data[data['거래량']=='-'].index\n",
        "data=data.drop(idx_null)\n",
        "\n",
        "for idx, value in zip(data['거래량'].index, data['거래량'].values):\n",
        "    if value[-1] == 'K':\n",
        "        data['거래량'][idx]=float(value.replace('K',''))*1000\n",
        "    elif value[-1] == 'M':\n",
        "        data['거래량'][idx]=float(value.replace('M',''))*1000000\n",
        "\n",
        "data = data.sort_values(by=[\"날짜\"], axis=0)\n",
        "\n",
        "data.tail()"
      ],
      "execution_count": null,
      "outputs": [
        {
          "output_type": "execute_result",
          "data": {
            "text/html": [
              "<div>\n",
              "<style scoped>\n",
              "    .dataframe tbody tr th:only-of-type {\n",
              "        vertical-align: middle;\n",
              "    }\n",
              "\n",
              "    .dataframe tbody tr th {\n",
              "        vertical-align: top;\n",
              "    }\n",
              "\n",
              "    .dataframe thead th {\n",
              "        text-align: right;\n",
              "    }\n",
              "</style>\n",
              "<table border=\"1\" class=\"dataframe\">\n",
              "  <thead>\n",
              "    <tr style=\"text-align: right;\">\n",
              "      <th></th>\n",
              "      <th>날짜</th>\n",
              "      <th>종가</th>\n",
              "      <th>오픈</th>\n",
              "      <th>고가</th>\n",
              "      <th>저가</th>\n",
              "      <th>거래량</th>\n",
              "      <th>변동 %</th>\n",
              "    </tr>\n",
              "  </thead>\n",
              "  <tbody>\n",
              "    <tr>\n",
              "      <th>4</th>\n",
              "      <td>2021년 02월 22일</td>\n",
              "      <td>54111.8</td>\n",
              "      <td>57437.6</td>\n",
              "      <td>57480.8</td>\n",
              "      <td>48353.8</td>\n",
              "      <td>244950</td>\n",
              "      <td>-5.78</td>\n",
              "    </tr>\n",
              "    <tr>\n",
              "      <th>3</th>\n",
              "      <td>2021년 02월 23일</td>\n",
              "      <td>48911.2</td>\n",
              "      <td>54114.1</td>\n",
              "      <td>54115.0</td>\n",
              "      <td>45093.8</td>\n",
              "      <td>315070</td>\n",
              "      <td>-9.61</td>\n",
              "    </tr>\n",
              "    <tr>\n",
              "      <th>2</th>\n",
              "      <td>2021년 02월 24일</td>\n",
              "      <td>49697.5</td>\n",
              "      <td>48911.1</td>\n",
              "      <td>51311.8</td>\n",
              "      <td>47031.7</td>\n",
              "      <td>153750</td>\n",
              "      <td>1.61</td>\n",
              "    </tr>\n",
              "    <tr>\n",
              "      <th>1</th>\n",
              "      <td>2021년 02월 25일</td>\n",
              "      <td>46928.5</td>\n",
              "      <td>49695.9</td>\n",
              "      <td>52013.8</td>\n",
              "      <td>46773.7</td>\n",
              "      <td>83220</td>\n",
              "      <td>-5.57</td>\n",
              "    </tr>\n",
              "    <tr>\n",
              "      <th>0</th>\n",
              "      <td>2021년 02월 26일</td>\n",
              "      <td>47736.1</td>\n",
              "      <td>46928.5</td>\n",
              "      <td>48413.9</td>\n",
              "      <td>44248.2</td>\n",
              "      <td>195930</td>\n",
              "      <td>1.72</td>\n",
              "    </tr>\n",
              "  </tbody>\n",
              "</table>\n",
              "</div>"
            ],
            "text/plain": [
              "              날짜       종가       오픈       고가       저가     거래량   변동 %\n",
              "4  2021년 02월 22일  54111.8  57437.6  57480.8  48353.8  244950  -5.78\n",
              "3  2021년 02월 23일  48911.2  54114.1  54115.0  45093.8  315070  -9.61\n",
              "2  2021년 02월 24일  49697.5  48911.1  51311.8  47031.7  153750   1.61\n",
              "1  2021년 02월 25일  46928.5  49695.9  52013.8  46773.7   83220  -5.57\n",
              "0  2021년 02월 26일  47736.1  46928.5  48413.9  44248.2  195930   1.72"
            ]
          },
          "metadata": {
            "tags": []
          },
          "execution_count": 671
        }
      ]
    },
    {
      "cell_type": "markdown",
      "metadata": {
        "id": "pDkLRahbnOql"
      },
      "source": [
        "# Split X, Y and Create Windowed X"
      ]
    },
    {
      "cell_type": "code",
      "metadata": {
        "colab": {
          "base_uri": "https://localhost:8080/"
        },
        "id": "bMIbFOHTIDD_",
        "outputId": "783e1a7f-5391-4031-df11-ae8595892033"
      },
      "source": [
        "WINDOW = 30\n",
        "\n",
        "\n",
        "X_data = data.drop(['오픈'],axis='columns')\n",
        "X_data = X_data.iloc[:, 1:2] # 종가, 고가, 저가, 거래량, 변동\n",
        "print(X_data.columns)\n",
        "\n",
        "\n",
        "result = []\n",
        "for index in range(len(X_data) - WINDOW-1):\n",
        "    result.append(X_data[index : index + WINDOW+1])\n",
        "\n",
        "result=np.asarray(result).astype('float32')\n",
        "\n",
        "final_result=normalize_windows(result)\n",
        "\n",
        "row = int(round(final_result.shape[0] * 0.9))\n",
        "train = final_result[:row, :]\n",
        "np.random.shuffle(train)\n",
        "\n",
        "x_train = train[:, :-1]\n",
        "y_train = train[:, -1,0].reshape(-1,1)\n",
        "\n",
        "x_test = result[row:, :-1]\n",
        "y_test = result[row:, -1,0].reshape(-1,1)\n",
        "\n",
        "print(x_train.shape,y_train.shape)"
      ],
      "execution_count": null,
      "outputs": [
        {
          "output_type": "stream",
          "text": [
            "Index(['종가'], dtype='object')\n",
            "(1668, 30, 1) (1668, 1)\n"
          ],
          "name": "stdout"
        }
      ]
    },
    {
      "cell_type": "code",
      "metadata": {
        "colab": {
          "base_uri": "https://localhost:8080/"
        },
        "id": "Fab0Z9AHc8mb",
        "outputId": "25d0355e-08e9-432d-d06a-4da0b689d966"
      },
      "source": [
        "model = Sequential()\n",
        "\n",
        "model.add(Conv1D(filters=32, kernel_size=WINDOW,\n",
        "           padding=\"causal\",\n",
        "           activation=\"sigmoid\",\n",
        "           input_shape=[WINDOW, x_train.shape[-1]])\n",
        "        )\n",
        "\n",
        "model.add(LSTM(128, return_sequences=True))\n",
        "model.add(Dropout(rate=0.5))\n",
        "\n",
        "model.add(LSTM(64, return_sequences=True))\n",
        "model.add(Dropout(0.5))\n",
        "\n",
        "model.add(LSTM(32, return_sequences=False))\n",
        "\n",
        "model.add(Dense(1))\n",
        "\n",
        "loss = Huber()\n",
        "optimizer = Adam(0.0001)\n",
        "model.compile(loss=Huber(), optimizer=optimizer, metrics=[\"mse\"])\n",
        "model.summary()"
      ],
      "execution_count": null,
      "outputs": [
        {
          "output_type": "stream",
          "text": [
            "Model: \"sequential_34\"\n",
            "_________________________________________________________________\n",
            "Layer (type)                 Output Shape              Param #   \n",
            "=================================================================\n",
            "conv1d_31 (Conv1D)           (None, 30, 32)            992       \n",
            "_________________________________________________________________\n",
            "lstm_96 (LSTM)               (None, 30, 128)           82432     \n",
            "_________________________________________________________________\n",
            "dropout_67 (Dropout)         (None, 30, 128)           0         \n",
            "_________________________________________________________________\n",
            "lstm_97 (LSTM)               (None, 30, 64)            49408     \n",
            "_________________________________________________________________\n",
            "dropout_68 (Dropout)         (None, 30, 64)            0         \n",
            "_________________________________________________________________\n",
            "lstm_98 (LSTM)               (None, 32)                12416     \n",
            "_________________________________________________________________\n",
            "dense_34 (Dense)             (None, 1)                 33        \n",
            "=================================================================\n",
            "Total params: 145,281\n",
            "Trainable params: 145,281\n",
            "Non-trainable params: 0\n",
            "_________________________________________________________________\n"
          ],
          "name": "stdout"
        }
      ]
    },
    {
      "cell_type": "code",
      "metadata": {
        "colab": {
          "base_uri": "https://localhost:8080/"
        },
        "id": "iLHqrLE6pJ1S",
        "outputId": "d628824d-60ef-445a-f60f-88a8ce3f1e57"
      },
      "source": [
        "start_time = datetime.datetime.now().strftime(\"%Y_%m_%d_%H_%M_%S\")\n",
        "\n",
        "\n",
        "\n",
        "history=model.fit(\n",
        "    x_train,\n",
        "    y_train,\n",
        "    validation_data=(x_test, y_test),\n",
        "    epochs=100,\n",
        "    verbose=-1,\n",
        "    callbacks=[\n",
        "        # ModelCheckpoint(\n",
        "        #     \".\\\\models\\\\%s_eth.h5\" % (start_time),\n",
        "        #     monitor=\"val_loss\",\n",
        "        #     verbose=False,\n",
        "        #     save_best_only=True,\n",
        "        #     mode=\"auto\",\n",
        "        # ),\n",
        "        ReduceLROnPlateau(\n",
        "            monitor=\"val_loss\", factor=0.2, patience=5, verbose=0, mode=\"auto\"\n",
        "        ),\n",
        "        EarlyStopping(monitor=\"val_loss\", patience=5)\n",
        "    ]\n",
        ")"
      ],
      "execution_count": null,
      "outputs": [
        {
          "output_type": "stream",
          "text": [
            "Epoch 1/100\n",
            "Epoch 2/100\n",
            "Epoch 3/100\n",
            "Epoch 4/100\n",
            "Epoch 5/100\n",
            "Epoch 6/100\n",
            "Epoch 7/100\n",
            "Epoch 8/100\n",
            "Epoch 9/100\n",
            "Epoch 10/100\n",
            "Epoch 11/100\n",
            "Epoch 12/100\n",
            "Epoch 13/100\n",
            "Epoch 14/100\n",
            "Epoch 15/100\n",
            "Epoch 16/100\n",
            "Epoch 17/100\n",
            "Epoch 18/100\n",
            "Epoch 19/100\n",
            "Epoch 20/100\n",
            "Epoch 21/100\n",
            "Epoch 22/100\n",
            "Epoch 23/100\n",
            "Epoch 24/100\n",
            "Epoch 25/100\n"
          ],
          "name": "stdout"
        }
      ]
    },
    {
      "cell_type": "code",
      "metadata": {
        "colab": {
          "base_uri": "https://localhost:8080/",
          "height": 497
        },
        "id": "C2j4anjlpcmF",
        "outputId": "fbb54e3d-915c-40c5-932c-5eaeffa7eb67"
      },
      "source": [
        "import matplotlib.pyplot as plt\n",
        "\n",
        "loss = history.history['loss']\n",
        "epoch_count = range(1, len(loss) + 1)\n",
        "plt.figure(figsize=(12,8))\n",
        "plt.plot(epoch_count, loss, 'r--')\n",
        "plt.legend(['Training Loss'])\n",
        "plt.xlabel('Epoch')\n",
        "plt.ylabel('Loss')\n",
        "plt.show()"
      ],
      "execution_count": null,
      "outputs": [
        {
          "output_type": "display_data",
          "data": {
            "image/png": "[encoded data removed]",
            "text/plain": [
              "<Figure size 864x576 with 1 Axes>"
            ]
          },
          "metadata": {
            "tags": [],
            "needs_background": "light"
          }
        }
      ]
    },
    {
      "cell_type": "code",
      "metadata": {
        "colab": {
          "base_uri": "https://localhost:8080/",
          "height": 499
        },
        "id": "0ZI2ghrzpvNv",
        "outputId": "df619c11-5c43-48b9-9aca-cfb8350a0bfd"
      },
      "source": [
        "pred = model.predict(x_test)\n",
        "plt.figure(figsize=(12,8))\n",
        "plt.plot(y_test[-50:], color='blue', label='Real',marker='o')\n",
        "# plt.plot(pred[-50:], color='red', label='Prediction',marker='*')\n",
        "plt.title('Coin Price Prediction')\n",
        "plt.legend()\n",
        "plt.show()"
      ],
      "execution_count": null,
      "outputs": [
        {
          "output_type": "display_data",
          "data": {
            "image/png": "[encoded data removed]",
            "text/plain": [
              "<Figure size 864x576 with 1 Axes>"
            ]
          },
          "metadata": {
            "tags": [],
            "needs_background": "light"
          }
        }
      ]
    },
    {
      "cell_type": "code",
      "metadata": {
        "colab": {
          "base_uri": "https://localhost:8080/",
          "height": 499
        },
        "id": "ltnJkApOthzB",
        "outputId": "0eb9e9ab-6bb7-458f-a982-4dbcb05c8cff"
      },
      "source": [
        "pred = model.predict(x_test)\n",
        "plt.figure(figsize=(12,8))\n",
        "# plt.plot(y_test[-50:], color='blue', label='Real',marker='o')\n",
        "plt.plot(pred[-50:], color='red', label='Prediction',marker='*')\n",
        "plt.title('Coin Price Prediction')\n",
        "plt.legend()\n",
        "plt.show()"
      ],
      "execution_count": null,
      "outputs": [
        {
          "output_type": "display_data",
          "data": {
            "image/png": "[encoded data removed]",
            "text/plain": [
              "<Figure size 864x576 with 1 Axes>"
            ]
          },
          "metadata": {
            "tags": [],
            "needs_background": "light"
          }
        }
      ]
    },
    {
      "cell_type": "code",
      "metadata": {
        "id": "QGTCQquRqa8M"
      },
      "source": [
        ""
      ],
      "execution_count": null,
      "outputs": []
    }
  ]
}