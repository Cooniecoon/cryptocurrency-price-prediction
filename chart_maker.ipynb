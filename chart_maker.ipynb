{
  "nbformat": 4,
  "nbformat_minor": 0,
  "metadata": {
    "colab": {
      "name": "chart_maker.ipynb",
      "provenance": [],
      "collapsed_sections": [],
      "toc_visible": true
    },
    "kernelspec": {
      "name": "python3",
      "display_name": "Python 3"
    },
    "language_info": {
      "name": "python"
    }
  },
  "cells": [
    {
      "cell_type": "code",
      "metadata": {
        "colab": {
          "base_uri": "https://localhost:8080/"
        },
        "id": "4M2DOT1-bzLq",
        "outputId": "bb74416f-daa0-4ddc-b2eb-f949a6dd6012"
      },
      "source": [
        "!pip install mpl-finance"
      ],
      "execution_count": null,
      "outputs": [
        {
          "output_type": "stream",
          "text": [
            "Collecting mpl-finance\n",
            "  Downloading https://files.pythonhosted.org/packages/9d/de/8169ea4403d6cb8322e74cc48b6834d1dfbed81931d17f1f26b2140160d8/mpl_finance-0.10.1-py3-none-any.whl\n",
            "Requirement already satisfied: matplotlib in /usr/local/lib/python3.7/dist-packages (from mpl-finance) (3.2.2)\n",
            "Requirement already satisfied: pyparsing!=2.0.4,!=2.1.2,!=2.1.6,>=2.0.1 in /usr/local/lib/python3.7/dist-packages (from matplotlib->mpl-finance) (2.4.7)\n",
            "Requirement already satisfied: python-dateutil>=2.1 in /usr/local/lib/python3.7/dist-packages (from matplotlib->mpl-finance) (2.8.1)\n",
            "Requirement already satisfied: kiwisolver>=1.0.1 in /usr/local/lib/python3.7/dist-packages (from matplotlib->mpl-finance) (1.3.1)\n",
            "Requirement already satisfied: cycler>=0.10 in /usr/local/lib/python3.7/dist-packages (from matplotlib->mpl-finance) (0.10.0)\n",
            "Requirement already satisfied: numpy>=1.11 in /usr/local/lib/python3.7/dist-packages (from matplotlib->mpl-finance) (1.19.5)\n",
            "Requirement already satisfied: six>=1.5 in /usr/local/lib/python3.7/dist-packages (from python-dateutil>=2.1->matplotlib->mpl-finance) (1.15.0)\n",
            "Installing collected packages: mpl-finance\n",
            "Successfully installed mpl-finance-0.10.1\n"
          ],
          "name": "stdout"
        }
      ]
    },
    {
      "cell_type": "code",
      "metadata": {
        "id": "you0bWv6YUel"
      },
      "source": [
        "from mpl_finance import candlestick2_ohlc\n",
        "import matplotlib.ticker as ticker\n",
        "import matplotlib.pyplot as plt\n",
        "import pandas as pd \n",
        "from datetime import datetime\n",
        "\n",
        "# COIN_LIST=['BTC','BCH','BTG','BSV','BCHA','LTC',]\n",
        "COIN_LIST=['BTC']#,'BCH','BTG','BSV','BCHA','LTC','EOS','ETH','ETC','ZIL','ADA','XRP','DOT','XLM','ATOM']"
      ],
      "execution_count": null,
      "outputs": []
    },
    {
      "cell_type": "code",
      "metadata": {
        "id": "wy4c-7vAr6bC"
      },
      "source": [
        "from PIL import Image, ImageChops\n",
        "\n",
        "def trim(im):\n",
        "    bg = Image.new(im.mode, im.size, im.getpixel((0,0)))\n",
        "    diff = ImageChops.difference(im, bg)\n",
        "    diff = ImageChops.add(diff, diff, 2.0, -100)\n",
        "    diff.show()\n",
        "    bbox = diff.getbbox()\n",
        "    if bbox:\n",
        "        return im.crop(bbox)\n",
        "\n"
      ],
      "execution_count": null,
      "outputs": []
    },
    {
      "cell_type": "markdown",
      "metadata": {
        "id": "XkdtE6zhDPGz"
      },
      "source": [
        "# Candle + TradeVolume"
      ]
    },
    {
      "cell_type": "code",
      "metadata": {
        "id": "D8crTPCqYZoe"
      },
      "source": [
        "from mpl_finance import candlestick2_ohlc\n",
        "import matplotlib.ticker as ticker\n",
        "import matplotlib.pyplot as plt\n",
        "import pandas as pd \n",
        "from datetime import datetime\n",
        "\n",
        "# COIN_LIST=['BTC','BCH','BTG','BSV','BCHA','LTC',]\n",
        "COIN_LIST=['BTC','BCH','BTG','BSV','BCHA','LTC','EOS','ETH','ETC','ZIL','ADA','XRP','DOT','XLM','ATOM']\n",
        "\n",
        "\n",
        "img_w=70\n",
        "img_h=50\n",
        "term=20\n",
        "linewidth=0.7\n",
        "candle_width=0.7\n",
        "figsize = (1, img_h/img_w) if img_h>=img_w else (img_w/img_h, 1)\n",
        "print(figsize)\n",
        "for coin in COIN_LIST:\n",
        "    # for time_unit in ['day', '240']:\n",
        "    for time_unit in ['day']:\n",
        "        fig = plt.figure(facecolor=(0,0,0),figsize=figsize)\n",
        "        plt.subplots_adjust(left = 0, bottom = 0, right = 1, top = 1, hspace = 0, wspace = 0)\n",
        "        top_axes = plt.subplot2grid((5,5), (0,0), rowspan=4, colspan=5)\n",
        "        bottom_axes = plt.subplot2grid((5,5), (4,0), rowspan=1, colspan=5, sharex=top_axes)\n",
        "        bottom_axes.get_yaxis().get_major_formatter().set_scientific(False)\n",
        "        plt.tight_layout(pad=0.0,h_pad=0.0,w_pad=0.0)\n",
        "        # plt.style.use(['dark_background'])\n",
        "        \n",
        "\n",
        "        dataset_path=f'/content/drive/MyDrive/coin_data/chart/{time_unit}/'\n",
        "        df = pd.read_csv(f'/content/drive/MyDrive/coin_data/price/Upbit_{coin}_{time_unit}_Data.csv')\n",
        "\n",
        "        df['MA3'] = df['TradePrice'].rolling(3).mean()\n",
        "        df['MA5'] = df['TradePrice'].rolling(5).mean()\n",
        "        df['MA10'] = df['TradePrice'].rolling(10).mean()\n",
        "        df['MA30'] = df['TradePrice'].rolling(30).mean()\n",
        "        df['MA60'] = df['TradePrice'].rolling(60).mean()\n",
        "\n",
        "        # index = [i.split('T')[0][2:] for i in list(df['Time'])] # 캔들스틱 x축\n",
        "        end_point=df.index.stop\n",
        "        \n",
        "        idx=0\n",
        "        \n",
        "\n",
        "        up_count=0\n",
        "        down_count=0\n",
        "        while True:\n",
        "            \n",
        "            top_axes.axis('off')\n",
        "            bottom_axes.axis('off') \n",
        "            top_axes.axes.get_xaxis().set_visible(False)\n",
        "            top_axes.axes.get_yaxis().set_visible(False)\n",
        "            bottom_axes.axes.get_xaxis().set_visible(False)\n",
        "            bottom_axes.axes.get_yaxis().set_visible(False)\n",
        "            df_terminated=df.iloc[idx:idx+term]\n",
        "            \n",
        "            # index = [i.split('T')[0][2:] for i in list(df_terminated['Time'])] # 캔들스틱 x축\n",
        "            index=df_terminated['Time']  \n",
        "            # 이동평균선 그리기\n",
        "            top_axes.plot(index, df_terminated['MA3'], label='MA3', linewidth=1.0)\n",
        "            top_axes.plot(index, df_terminated['MA5'], label='MA5', linewidth=1.0)\n",
        "            top_axes.plot(index, df_terminated['MA10'], label='MA10', linewidth=1.0)\n",
        "            top_axes.plot(index, df_terminated['MA30'], label='MA30', linewidth=1.0)\n",
        "            top_axes.plot(index, df_terminated['MA60'], label='MA60', linewidth=1.0)\n",
        "\n",
        "\n",
        "            candlestick2_ohlc(top_axes, df_terminated['OpeningPrice'], df_terminated['HighPrice'], \n",
        "                            df_terminated['LowPrice'], df_terminated['TradePrice'],\n",
        "                            width=0.7, colorup='r', colordown='b',alpha=1.0)\n",
        "            \n",
        "            color_fuc = lambda x : 'r' if x >= 0 else 'b'\n",
        "            color_list = list(df_terminated['CandleAccTradeVolume'].diff().fillna(0).apply(color_fuc))\n",
        "            bottom_axes.bar(index, df_terminated['CandleAccTradeVolume'], width=0.8, \n",
        "                            align='center',\n",
        "                            color=color_list,alpha=0.7)\n",
        "\n",
        "            \n",
        "            # plt.pause(100)\n",
        "\n",
        "            next_price=df.iloc[idx+term]['TradePrice']\n",
        "            current_price=df_terminated.iloc[-1]['TradePrice']\n",
        "\n",
        "            if next_price>=current_price:\n",
        "                up_count+=1\n",
        "                plt.savefig(dataset_path+'up/{0}_{1}.jpg'.format(coin,idx),bbox_inces='tight', pad_inches=0, facecolor='black')\n",
        "                im = Image.open(dataset_path+'up/{0}_{1}.jpg'.format(coin,idx))\n",
        "                im = trim(im)\n",
        "                im=im.resize((img_w,img_h))\n",
        "                im.save(dataset_path+'up/{0}_{1}.jpg'.format(coin,idx))\n",
        "            elif next_price<current_price:\n",
        "                down_count+=1\n",
        "                plt.savefig(dataset_path+'down/{0}_{1}.jpg'.format(coin,idx),bbox_inces='tight', pad_inches=0, facecolor='black')\n",
        "                im = Image.open(dataset_path+'down/{0}_{1}.jpg'.format(coin,idx))\n",
        "                im = trim(im)\n",
        "                im=im.resize((img_w,img_h))\n",
        "                im.save(dataset_path+'up/{0}_{1}.jpg'.format(coin,idx))\n",
        "\n",
        "            print(f'coin : {coin}_{time_unit},   up : {up_count},  down : {down_count},   total : {up_count+down_count},   img_shape : {im.size}')\n",
        "\n",
        "            top_axes.cla()\n",
        "            bottom_axes.cla()\n",
        "            \n",
        "            idx+=1\n",
        "\n",
        "            if idx+term>end_point-term:\n",
        "                plt.close('all')\n",
        "                break"
      ],
      "execution_count": null,
      "outputs": []
    },
    {
      "cell_type": "markdown",
      "metadata": {
        "id": "6myI0YVjDTs_"
      },
      "source": [
        "# Candle"
      ]
    },
    {
      "cell_type": "code",
      "metadata": {
        "id": "kIb_5V3De67Z"
      },
      "source": [
        "COIN_LIST=['BTC','BCH','BTG','BSV','BCHA','LTC','EOS','ETH','ETC','ZIL','ADA','XRP','DOT','XLM','ATOM']\n",
        "\n",
        "\n",
        "img_w=70\n",
        "img_h=50\n",
        "term=20\n",
        "linewidth=0.7\n",
        "candle_width=0.7\n",
        "figsize = (1, img_h/img_w) if img_h>=img_w else (img_w/img_h, 1)\n",
        "for coin in COIN_LIST:\n",
        "    # for time_unit in ['day', '240']:\n",
        "    for time_unit in ['day']:\n",
        "        fig = plt.figure(facecolor=(0,0,0),figsize=figsize)\n",
        "        plt.subplots_adjust(left = 0, bottom = 0, right = 1, top = 1, hspace = 0, wspace = 0)\n",
        "        plt.axis('off'), plt.xticks([]), plt.yticks([])\n",
        "        plt.tight_layout(pad=0.0,h_pad=0.0,w_pad=0.0)\n",
        "        # plt.style.use(['dark_background'])\n",
        "        \n",
        "\n",
        "\n",
        "        top_axes = plt.subplot2grid((5,5), (0,0), rowspan=5, colspan=5)\n",
        "        top_axes.axes.get_xaxis().set_visible(False)\n",
        "        top_axes.axes.get_yaxis().set_visible(False)\n",
        "        top_axes.yaxis.set_major_locator(plt.NullLocator())\n",
        "        top_axes.xaxis.set_major_locator(plt.NullLocator())\n",
        "        # bottom_axes = plt.subplot2grid((5,5), (4,0), rowspan=1, colspan=5, sharex=top_axes)\n",
        "        # bottom_axes.get_yaxis().get_major_formatter().set_scientific(False)\n",
        "\n",
        "        dataset_path=f'/content/drive/MyDrive/coin_data/chart/{time_unit}/'\n",
        "        df = pd.read_csv(f'/content/drive/MyDrive/coin_data/price/Upbit_{coin}_{time_unit}_Data.csv')\n",
        "\n",
        "        # df['MA3'] = df['TradePrice'].rolling(3).mean()\n",
        "        df['MA5'] = df['TradePrice'].rolling(5).mean()\n",
        "        df['MA10'] = df['TradePrice'].rolling(10).mean()\n",
        "        df['MA20'] = df['TradePrice'].rolling(20).mean()\n",
        "        # df['MA30'] = df['TradePrice'].rolling(30).mean()\n",
        "        # df['MA60'] = df['TradePrice'].rolling(60).mean()\n",
        "\n",
        "        # index = [i.split('T')[0][2:] for i in list(df['Time'])] # 캔들스틱 x축\n",
        "        end_point=df.index.stop\n",
        "        \n",
        "        idx=0\n",
        "        \n",
        "        up_count=0\n",
        "        down_count=0\n",
        "        while True:\n",
        "            \n",
        "            # plt.rcParams['axes.facecolor'] = 'black'\n",
        "            top_axes.axis('off')\n",
        "            # bottom_axes.axis('off') \n",
        "            df_terminated=df.iloc[idx:idx+term]\n",
        "            \n",
        "            # index = [i.split('T')[0][2:] for i in list(df_terminated['Time'])] # 캔들스틱 x축\n",
        "            index=df_terminated['Time']  \n",
        "            # 이동평균선 그리기\n",
        "            # top_axes.plot(index, df_terminated['MA3'], label='MA3', linewidth=linewidth)\n",
        "            top_axes.plot(index, df_terminated['MA5'], label='MA5', linewidth=linewidth)\n",
        "            top_axes.plot(index, df_terminated['MA10'], label='MA10', linewidth=linewidth)\n",
        "            top_axes.plot(index, df_terminated['MA20'], label='MA20', linewidth=linewidth)\n",
        "            # top_axes.plot(index, df_terminated['MA30'], label='MA30', linewidth=linewidth)\n",
        "            # top_axes.plot(index, df_terminated['MA60'], label='MA60', linewidth=1)\n",
        "\n",
        "\n",
        "            candlestick2_ohlc(top_axes, df_terminated['OpeningPrice'], df_terminated['HighPrice'], \n",
        "                            df_terminated['LowPrice'], df_terminated['TradePrice'],\n",
        "                            width=candle_width, colorup='r', colordown='b',alpha=1)\n",
        "            \n",
        "            color_fuc = lambda x : 'r' if x >= 0 else 'b'\n",
        "            color_list = list(df_terminated['CandleAccTradeVolume'].diff().fillna(0).apply(color_fuc))\n",
        "            # bottom_axes.bar(index, df_terminated['CandleAccTradeVolume'], width=0.6, \n",
        "            #                 align='center',\n",
        "            #                 color=color_list,alpha=0.7)\n",
        "\n",
        "            \n",
        "            # plt.pause(100)\n",
        "\n",
        "            next_price=df.iloc[idx+term]['TradePrice']\n",
        "            current_price=df_terminated.iloc[-1]['TradePrice']\n",
        "\n",
        "            if next_price>=current_price:\n",
        "                up_count+=1\n",
        "                plt.savefig(dataset_path+'up/{0}_{1}.jpg'.format(coin,idx),bbox_inces='tight', pad_inches=0, facecolor='black')\n",
        "                # im = Image.open(dataset_path+'up/{0}_{1}.jpg'.format(coin,idx))\n",
        "                # im = trim(im)\n",
        "                # im=im.resize((img_w,img_h))\n",
        "                # im.save(dataset_path+'up/{0}_{1}.jpg'.format(coin,idx))\n",
        "            elif next_price<current_price:\n",
        "                down_count+=1\n",
        "                plt.savefig(dataset_path+'down/{0}_{1}.jpg'.format(coin,idx),bbox_inces='tight', pad_inches=0, facecolor='black')\n",
        "                # im = Image.open(dataset_path+'down/{0}_{1}.jpg'.format(coin,idx))\n",
        "                # im = trim(im)\n",
        "                # im=im.resize((img_w,img_h))\n",
        "                # im.save(dataset_path+'up/{0}_{1}.jpg'.format(coin,idx))\n",
        "\n",
        "            print(f'coin : {coin}_{time_unit},   up : {up_count},  down : {down_count},   total : {up_count+down_count}')\n",
        "            top_axes.cla()\n",
        "            # bottom_axes.cla()\n",
        "            \n",
        "            idx+=1\n",
        "\n",
        "            if idx+term>end_point-term:\n",
        "                plt.close('all')\n",
        "                break"
      ],
      "execution_count": null,
      "outputs": []
    },
    {
      "cell_type": "markdown",
      "metadata": {
        "id": "a__ByRhON1hJ"
      },
      "source": [
        "# Check Chart Image"
      ]
    },
    {
      "cell_type": "code",
      "metadata": {
        "colab": {
          "base_uri": "https://localhost:8080/",
          "height": 267
        },
        "id": "-PiUM7pVa4in",
        "outputId": "ac3bc2eb-4fa0-41fe-fb8c-f44ce724feb7"
      },
      "source": [
        "img_path='/content/drive/MyDrive/coin_data/chart/day/up/BTC_323.jpg'\n",
        "\n",
        "import matplotlib.pyplot as plt\n",
        "from PIL import Image\n",
        "\n",
        "image = plt.imread(img_path)\n",
        "plt.imshow(image)\n",
        "plt.show()\n",
        "plt.close('all')"
      ],
      "execution_count": null,
      "outputs": [
        {
          "output_type": "display_data",
          "data": {
            "image/png": "[encoded data removed]",
            "text/plain": [
              "<Figure size 432x288 with 1 Axes>"
            ]
          },
          "metadata": {
            "tags": [],
            "needs_background": "light"
          }
        }
      ]
    },
    {
      "cell_type": "markdown",
      "metadata": {
        "id": "0_IE8R5_6mFr"
      },
      "source": [
        "# Make Chart Using numpy\n"
      ]
    },
    {
      "cell_type": "code",
      "metadata": {
        "id": "RWqBMHI8EQi0"
      },
      "source": [
        "import numpy as np\n",
        "\n",
        "def min_max_normalize_ochl(arr):\n",
        "\n",
        "    highmax=max(df_terminated['HighPrice'])\n",
        "    lowmin=min(df_terminated['LowPrice'])\n",
        "    norm_factor=(highmax-lowmin)\n",
        "    norm_arr=(np.array(arr)-lowmin)/norm_factor\n",
        "    return norm_arr\n",
        "\n",
        "def min_max_normalize_ma(arr):\n",
        "\n",
        "    highmax=max(arr)\n",
        "    lowmin=min(arr)\n",
        "    norm_factor=(highmax-lowmin)\n",
        "    norm_arr=(np.array(arr)-lowmin)/norm_factor\n",
        "    return norm_arr\n",
        "\n",
        "def make_chart(df_terminated,img_w,img_h,term,linewidth,alpha,colors):\n",
        "    date_term=int(img_w/term)\n",
        "    candle_width=date_term\n",
        "    ma5=min_max_normalize_ma(df_terminated['MA5'])\n",
        "    ma10=min_max_normalize_ma(df_terminated['MA10'])\n",
        "    ma20=min_max_normalize_ma(df_terminated['MA20'])\n",
        "    high=min_max_normalize_ochl(df_terminated['HighPrice'])\n",
        "    low=min_max_normalize_ochl(df_terminated['LowPrice'])\n",
        "    open=min_max_normalize_ochl(df_terminated['OpeningPrice'])\n",
        "    close=min_max_normalize_ochl(df_terminated['TradePrice'])\n",
        "\n",
        "\n",
        "    ma5=np.array(ma5*(img_h-1),dtype=np.int8)\n",
        "    ma10=np.array(ma10*(img_h-1),dtype=np.int8)\n",
        "    ma20=np.array(ma20*(img_h-1),dtype=np.int8)\n",
        "    high=np.array(high*(img_h-1),dtype=np.int8)\n",
        "    low=np.array(low*(img_h-1),dtype=np.int8)\n",
        "    open=np.array(open*(img_h),dtype=np.int8)\n",
        "    close=np.array(close*(img_h-1),dtype=np.int8)\n",
        "\n",
        "\n",
        "    ma5=(img_h-1)-ma5\n",
        "    ma10=(img_h-1)-ma10\n",
        "    ma20=(img_h-1)-ma20\n",
        "    high=(img_h-1)-high\n",
        "    low=(img_h-1)-low\n",
        "    open=(img_h-1)-open\n",
        "    close=(img_h-1)-close\n",
        "\n",
        "    # Draw Chart\n",
        "    chart=np.zeros((img_h,img_w,3),dtype=np.int16)\n",
        "    close_yesterday=0\n",
        "    today=0\n",
        "    for i in range(term):\n",
        "        if close[i]>close_yesterday:\n",
        "            color=colors['r']\n",
        "        elif close[i]<close_yesterday:\n",
        "            color=colors['b']\n",
        "        elif close[i]==close_yesterday:\n",
        "            color=colors['g']\n",
        "        close_yesterday=close[i]\n",
        "\n",
        "        # Draw high-low\n",
        "        col_start=today+date_term//2-linewidth//2\n",
        "        col_finish=today+date_term//2+linewidth//2\n",
        "        chart[high[i]:low[i]+1,col_start:col_finish,color]=255*alpha\n",
        "\n",
        "        # Draw open-close\n",
        "        col_start=today+date_term//2-candle_width//2\n",
        "        col_finish=today+date_term//2+candle_width//2\n",
        "        chart[min(open[i],close[i]):max(open[i],close[i])+1,col_start:col_finish,color]=255*alpha\n",
        "\n",
        "        # # Draw ma line\n",
        "        # chart[ma5[i],today+date_term//2,:]=(255,255,0)\n",
        "        # chart[ma10[i],today+date_term//2,:]=(255,0,255)\n",
        "        # chart[ma20[i],today+date_term//2,:]=(0,255,255)\n",
        "        # print(ma20[i])\n",
        "\n",
        "        today+=date_term\n",
        "    return chart"
      ],
      "execution_count": 5,
      "outputs": []
    },
    {
      "cell_type": "code",
      "metadata": {
        "id": "a33yMvBqElfs",
        "colab": {
          "base_uri": "https://localhost:8080/"
        },
        "outputId": "6cfb4582-b36d-482e-ca94-472046ce66a6"
      },
      "source": [
        "import matplotlib.image as mpimg\n",
        "import pandas as pd\n",
        "import numpy as np\n",
        "\n",
        "COIN_LIST=['BTC','BCH','BTG','BSV']#,'BCHA','LTC','EOS','ETH','ETC','ZIL','ADA','XRP','DOT','XLM','ATOM']\n",
        "\n",
        "\n",
        "img_w=80\n",
        "img_h=60\n",
        "term=20\n",
        "linewidth=2\n",
        "alpha=0.6\n",
        "colors={'r':0,'b':2,'g':1}\n",
        "train_val_split_rate=0.8\n",
        "\n",
        "for coin in COIN_LIST:\n",
        "    # for time_unit in ['day', '240']:\n",
        "    for time_unit in ['day']:\n",
        "        dataset_path=f'/content/drive/MyDrive/coin_data/chart/{time_unit}/'\n",
        "        df = pd.read_csv(f'/content/drive/MyDrive/coin_data/price/Upbit_{coin}_{time_unit}_Data.csv')\n",
        "\n",
        "        df['MA5'] = df['TradePrice'].rolling(5).mean()\n",
        "        df['MA10'] = df['TradePrice'].rolling(10).mean()\n",
        "        df['MA20'] = df['TradePrice'].rolling(20).mean()\n",
        "\n",
        "        train_len=int(len(df)*train_val_split_rate)\n",
        "        val_len=len(df)-train_len\n",
        "        print(coin)\n",
        "        print('total :',len(df),'train :',train_len,'  val :',val_len)\n",
        "\n",
        "        df_train=df.iloc[0:train_len]\n",
        "        df_val=df.iloc[train_len:]\n",
        "        dataset={'train':df_train,'val':df_val}\n",
        "        for key,df_sub in dataset.items():\n",
        "            end_point=len(df_sub)\n",
        "            idx=0\n",
        "\n",
        "            up_count=0\n",
        "            down_count=0\n",
        "            \n",
        "            while True:\n",
        "                \n",
        "                df_terminated=df_sub.iloc[idx:idx+term]\n",
        "\n",
        "                idx+=1\n",
        "                if idx+term>end_point-term:\n",
        "                    break\n",
        "\n",
        "                chart=make_chart(df_terminated,img_w,img_h,term,linewidth,alpha,colors)\n",
        "                next_price=df.iloc[idx+term]['TradePrice']\n",
        "                current_price=df_terminated.iloc[-1]['TradePrice']\n",
        "                \n",
        "                if next_price>=current_price:\n",
        "                    up_count+=1\n",
        "                    path=dataset_path+key+'/up/{0}_{1}.jpg'.format(coin,idx)\n",
        "                    mpimg.imsave(path,np.array(chart,dtype=np.uint8))\n",
        "\n",
        "                elif next_price<current_price:\n",
        "                    down_count+=1\n",
        "                    path=dataset_path+key+'/down/{0}_{1}.jpg'.format(coin,idx)\n",
        "                    mpimg.imsave(path,np.array(chart,dtype=np.uint8))\n",
        "\n",
        "            print(f'subset : {coin}_{key},   up : {up_count},  down : {down_count},   total : {up_count+down_count}')\n",
        "    print('\\n')       \n"
      ],
      "execution_count": 29,
      "outputs": [
        {
          "output_type": "stream",
          "text": [
            "BTC\n",
            "total : 1305 train : 1044   val : 261\n",
            "subset : BTC_train,   up : 525,  down : 479,   total : 1004\n",
            "subset : BTC_val,   up : 42,  down : 179,   total : 221\n",
            "\n",
            "\n",
            "BCH\n",
            "total : 1302 train : 1041   val : 261\n",
            "subset : BCH_train,   up : 464,  down : 537,   total : 1001\n",
            "subset : BCH_val,   up : 216,  down : 5,   total : 221\n",
            "\n",
            "\n",
            "BTG\n",
            "total : 1249 train : 999   val : 250\n",
            "subset : BTG_train,   up : 435,  down : 524,   total : 959\n",
            "subset : BTG_val,   up : 188,  down : 22,   total : 210\n",
            "\n",
            "\n",
            "BSV\n",
            "total : 888 train : 710   val : 178\n",
            "subset : BSV_train,   up : 301,  down : 369,   total : 670\n",
            "subset : BSV_val,   up : 0,  down : 138,   total : 138\n",
            "\n",
            "\n"
          ],
          "name": "stdout"
        }
      ]
    },
    {
      "cell_type": "code",
      "metadata": {
        "colab": {
          "base_uri": "https://localhost:8080/",
          "height": 285
        },
        "id": "-jNW2G-i59VH",
        "outputId": "baa69196-8fef-446f-f8ac-f4290db33293"
      },
      "source": [
        "plt.imshow(chart)"
      ],
      "execution_count": 31,
      "outputs": [
        {
          "output_type": "execute_result",
          "data": {
            "text/plain": [
              "<matplotlib.image.AxesImage at 0x7fc238b10510>"
            ]
          },
          "metadata": {
            "tags": []
          },
          "execution_count": 31
        },
        {
          "output_type": "display_data",
          "data": {
            "image/png": "[encoded data removed]",
            "text/plain": [
              "<Figure size 432x288 with 1 Axes>"
            ]
          },
          "metadata": {
            "tags": [],
            "needs_background": "light"
          }
        }
      ]
    },
    {
      "cell_type": "code",
      "metadata": {
        "colab": {
          "base_uri": "https://localhost:8080/",
          "height": 267
        },
        "id": "BgDQ5TwK3mJT",
        "outputId": "53c72a32-30db-410b-d37d-b7fc542fcb02"
      },
      "source": [
        "img_path='/content/drive/MyDrive/coin_data/chart/day/up/BTC_323.jpg'\n",
        "\n",
        "import matplotlib.pyplot as plt\n",
        "from PIL import Image\n",
        "\n",
        "image = plt.imread(img_path)\n",
        "plt.imshow(image)\n",
        "plt.show()"
      ],
      "execution_count": null,
      "outputs": [
        {
          "output_type": "display_data",
          "data": {
            "image/png": "[encoded data removed]",
            "text/plain": [
              "<Figure size 432x288 with 1 Axes>"
            ]
          },
          "metadata": {
            "tags": [],
            "needs_background": "light"
          }
        }
      ]
    }
  ]
}